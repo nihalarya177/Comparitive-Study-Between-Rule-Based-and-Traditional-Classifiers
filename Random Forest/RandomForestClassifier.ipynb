{
  "nbformat": 4,
  "nbformat_minor": 0,
  "metadata": {
    "colab": {
      "provenance": [],
      "collapsed_sections": [
        "kfzFLDr07IF2"
      ]
    },
    "kernelspec": {
      "name": "python3",
      "display_name": "Python 3"
    },
    "language_info": {
      "name": "python"
    }
  },
  "cells": [
    {
      "cell_type": "markdown",
      "source": [
        "# Processing all 7 data sets other than horse"
      ],
      "metadata": {
        "id": "FH0DER-Q9h-r"
      }
    },
    {
      "cell_type": "code",
      "execution_count": 129,
      "metadata": {
        "id": "ngo5Cc8p8zcN"
      },
      "outputs": [],
      "source": [
        "import numpy as np\n",
        "import pandas as pd\n",
        "from sklearn.ensemble import RandomForestClassifier\n",
        "from sklearn.model_selection import train_test_split\n",
        "from sklearn.preprocessing import OneHotEncoder\n",
        "from sklearn.metrics import classification_report\n",
        "from sklearn.metrics import accuracy_score\n",
        "from sklearn.linear_model import LogisticRegression\n",
        "from sklearn.svm import SVC\n",
        "import matplotlib.pyplot as plt\n",
        "from sklearn.model_selection import cross_val_score\n"
      ]
    },
    {
      "cell_type": "code",
      "source": [
        "# from google.colab import drive\n",
        "# drive.mount('/content/gdrive')"
      ],
      "metadata": {
        "id": "TBBhqj6UBSHw"
      },
      "execution_count": 130,
      "outputs": []
    },
    {
      "cell_type": "code",
      "source": [
        "iris = pd.read_csv('iris.data', header = None)\n",
        "wine = pd.read_csv('wine.data', header = None)\n",
        "zoo = pd.read_csv('zoo.data', header = None)\n",
        "bank = pd.read_csv('banknote_authentication.data', header = None)\n",
        "diab  = pd.read_csv('pima-indians-diabetes.data', header = None)\n",
        "user = pd.read_csv('user-knowledge-modeling.data.txt', header = None)\n",
        "seed = df = pd.read_table('seeds_dataset.txt', header = None)\n",
        "glass = pd.read_csv('glass.data', header = None)\n",
        "glass =glass.drop(columns = [0], axis = 1)"
      ],
      "metadata": {
        "id": "rE-5V5si9ZIm"
      },
      "execution_count": 131,
      "outputs": []
    },
    {
      "cell_type": "code",
      "source": [
        "wine"
      ],
      "metadata": {
        "colab": {
          "base_uri": "https://localhost:8080/",
          "height": 424
        },
        "id": "p9v2zdW5yynE",
        "outputId": "ae14466a-f0d2-4172-b936-e8b6165c5eb8"
      },
      "execution_count": 132,
      "outputs": [
        {
          "output_type": "execute_result",
          "data": {
            "text/plain": [
              "        0     1     2     3    4     5     6     7     8      9     10    11  \\\n",
              "0    14.23  1.71  2.43  15.6  127  2.80  3.06  0.28  2.29   5.64  1.04  3.92   \n",
              "1    13.20  1.78  2.14  11.2  100  2.65  2.76  0.26  1.28   4.38  1.05  3.40   \n",
              "2    13.16  2.36  2.67  18.6  101  2.80  3.24  0.30  2.81   5.68  1.03  3.17   \n",
              "3    14.37  1.95  2.50  16.8  113  3.85  3.49  0.24  2.18   7.80  0.86  3.45   \n",
              "4    13.24  2.59  2.87  21.0  118  2.80  2.69  0.39  1.82   4.32  1.04  2.93   \n",
              "..     ...   ...   ...   ...  ...   ...   ...   ...   ...    ...   ...   ...   \n",
              "173  13.71  5.65  2.45  20.5   95  1.68  0.61  0.52  1.06   7.70  0.64  1.74   \n",
              "174  13.40  3.91  2.48  23.0  102  1.80  0.75  0.43  1.41   7.30  0.70  1.56   \n",
              "175  13.27  4.28  2.26  20.0  120  1.59  0.69  0.43  1.35  10.20  0.59  1.56   \n",
              "176  13.17  2.59  2.37  20.0  120  1.65  0.68  0.53  1.46   9.30  0.60  1.62   \n",
              "177  14.13  4.10  2.74  24.5   96  2.05  0.76  0.56  1.35   9.20  0.61  1.60   \n",
              "\n",
              "       12  13  \n",
              "0    1065   1  \n",
              "1    1050   1  \n",
              "2    1185   1  \n",
              "3    1480   1  \n",
              "4     735   1  \n",
              "..    ...  ..  \n",
              "173   740   3  \n",
              "174   750   3  \n",
              "175   835   3  \n",
              "176   840   3  \n",
              "177   560   3  \n",
              "\n",
              "[178 rows x 14 columns]"
            ],
            "text/html": [
              "\n",
              "  <div id=\"df-0897d2ec-7f99-4e00-96cf-279012dbd31b\">\n",
              "    <div class=\"colab-df-container\">\n",
              "      <div>\n",
              "<style scoped>\n",
              "    .dataframe tbody tr th:only-of-type {\n",
              "        vertical-align: middle;\n",
              "    }\n",
              "\n",
              "    .dataframe tbody tr th {\n",
              "        vertical-align: top;\n",
              "    }\n",
              "\n",
              "    .dataframe thead th {\n",
              "        text-align: right;\n",
              "    }\n",
              "</style>\n",
              "<table border=\"1\" class=\"dataframe\">\n",
              "  <thead>\n",
              "    <tr style=\"text-align: right;\">\n",
              "      <th></th>\n",
              "      <th>0</th>\n",
              "      <th>1</th>\n",
              "      <th>2</th>\n",
              "      <th>3</th>\n",
              "      <th>4</th>\n",
              "      <th>5</th>\n",
              "      <th>6</th>\n",
              "      <th>7</th>\n",
              "      <th>8</th>\n",
              "      <th>9</th>\n",
              "      <th>10</th>\n",
              "      <th>11</th>\n",
              "      <th>12</th>\n",
              "      <th>13</th>\n",
              "    </tr>\n",
              "  </thead>\n",
              "  <tbody>\n",
              "    <tr>\n",
              "      <th>0</th>\n",
              "      <td>14.23</td>\n",
              "      <td>1.71</td>\n",
              "      <td>2.43</td>\n",
              "      <td>15.6</td>\n",
              "      <td>127</td>\n",
              "      <td>2.80</td>\n",
              "      <td>3.06</td>\n",
              "      <td>0.28</td>\n",
              "      <td>2.29</td>\n",
              "      <td>5.64</td>\n",
              "      <td>1.04</td>\n",
              "      <td>3.92</td>\n",
              "      <td>1065</td>\n",
              "      <td>1</td>\n",
              "    </tr>\n",
              "    <tr>\n",
              "      <th>1</th>\n",
              "      <td>13.20</td>\n",
              "      <td>1.78</td>\n",
              "      <td>2.14</td>\n",
              "      <td>11.2</td>\n",
              "      <td>100</td>\n",
              "      <td>2.65</td>\n",
              "      <td>2.76</td>\n",
              "      <td>0.26</td>\n",
              "      <td>1.28</td>\n",
              "      <td>4.38</td>\n",
              "      <td>1.05</td>\n",
              "      <td>3.40</td>\n",
              "      <td>1050</td>\n",
              "      <td>1</td>\n",
              "    </tr>\n",
              "    <tr>\n",
              "      <th>2</th>\n",
              "      <td>13.16</td>\n",
              "      <td>2.36</td>\n",
              "      <td>2.67</td>\n",
              "      <td>18.6</td>\n",
              "      <td>101</td>\n",
              "      <td>2.80</td>\n",
              "      <td>3.24</td>\n",
              "      <td>0.30</td>\n",
              "      <td>2.81</td>\n",
              "      <td>5.68</td>\n",
              "      <td>1.03</td>\n",
              "      <td>3.17</td>\n",
              "      <td>1185</td>\n",
              "      <td>1</td>\n",
              "    </tr>\n",
              "    <tr>\n",
              "      <th>3</th>\n",
              "      <td>14.37</td>\n",
              "      <td>1.95</td>\n",
              "      <td>2.50</td>\n",
              "      <td>16.8</td>\n",
              "      <td>113</td>\n",
              "      <td>3.85</td>\n",
              "      <td>3.49</td>\n",
              "      <td>0.24</td>\n",
              "      <td>2.18</td>\n",
              "      <td>7.80</td>\n",
              "      <td>0.86</td>\n",
              "      <td>3.45</td>\n",
              "      <td>1480</td>\n",
              "      <td>1</td>\n",
              "    </tr>\n",
              "    <tr>\n",
              "      <th>4</th>\n",
              "      <td>13.24</td>\n",
              "      <td>2.59</td>\n",
              "      <td>2.87</td>\n",
              "      <td>21.0</td>\n",
              "      <td>118</td>\n",
              "      <td>2.80</td>\n",
              "      <td>2.69</td>\n",
              "      <td>0.39</td>\n",
              "      <td>1.82</td>\n",
              "      <td>4.32</td>\n",
              "      <td>1.04</td>\n",
              "      <td>2.93</td>\n",
              "      <td>735</td>\n",
              "      <td>1</td>\n",
              "    </tr>\n",
              "    <tr>\n",
              "      <th>...</th>\n",
              "      <td>...</td>\n",
              "      <td>...</td>\n",
              "      <td>...</td>\n",
              "      <td>...</td>\n",
              "      <td>...</td>\n",
              "      <td>...</td>\n",
              "      <td>...</td>\n",
              "      <td>...</td>\n",
              "      <td>...</td>\n",
              "      <td>...</td>\n",
              "      <td>...</td>\n",
              "      <td>...</td>\n",
              "      <td>...</td>\n",
              "      <td>...</td>\n",
              "    </tr>\n",
              "    <tr>\n",
              "      <th>173</th>\n",
              "      <td>13.71</td>\n",
              "      <td>5.65</td>\n",
              "      <td>2.45</td>\n",
              "      <td>20.5</td>\n",
              "      <td>95</td>\n",
              "      <td>1.68</td>\n",
              "      <td>0.61</td>\n",
              "      <td>0.52</td>\n",
              "      <td>1.06</td>\n",
              "      <td>7.70</td>\n",
              "      <td>0.64</td>\n",
              "      <td>1.74</td>\n",
              "      <td>740</td>\n",
              "      <td>3</td>\n",
              "    </tr>\n",
              "    <tr>\n",
              "      <th>174</th>\n",
              "      <td>13.40</td>\n",
              "      <td>3.91</td>\n",
              "      <td>2.48</td>\n",
              "      <td>23.0</td>\n",
              "      <td>102</td>\n",
              "      <td>1.80</td>\n",
              "      <td>0.75</td>\n",
              "      <td>0.43</td>\n",
              "      <td>1.41</td>\n",
              "      <td>7.30</td>\n",
              "      <td>0.70</td>\n",
              "      <td>1.56</td>\n",
              "      <td>750</td>\n",
              "      <td>3</td>\n",
              "    </tr>\n",
              "    <tr>\n",
              "      <th>175</th>\n",
              "      <td>13.27</td>\n",
              "      <td>4.28</td>\n",
              "      <td>2.26</td>\n",
              "      <td>20.0</td>\n",
              "      <td>120</td>\n",
              "      <td>1.59</td>\n",
              "      <td>0.69</td>\n",
              "      <td>0.43</td>\n",
              "      <td>1.35</td>\n",
              "      <td>10.20</td>\n",
              "      <td>0.59</td>\n",
              "      <td>1.56</td>\n",
              "      <td>835</td>\n",
              "      <td>3</td>\n",
              "    </tr>\n",
              "    <tr>\n",
              "      <th>176</th>\n",
              "      <td>13.17</td>\n",
              "      <td>2.59</td>\n",
              "      <td>2.37</td>\n",
              "      <td>20.0</td>\n",
              "      <td>120</td>\n",
              "      <td>1.65</td>\n",
              "      <td>0.68</td>\n",
              "      <td>0.53</td>\n",
              "      <td>1.46</td>\n",
              "      <td>9.30</td>\n",
              "      <td>0.60</td>\n",
              "      <td>1.62</td>\n",
              "      <td>840</td>\n",
              "      <td>3</td>\n",
              "    </tr>\n",
              "    <tr>\n",
              "      <th>177</th>\n",
              "      <td>14.13</td>\n",
              "      <td>4.10</td>\n",
              "      <td>2.74</td>\n",
              "      <td>24.5</td>\n",
              "      <td>96</td>\n",
              "      <td>2.05</td>\n",
              "      <td>0.76</td>\n",
              "      <td>0.56</td>\n",
              "      <td>1.35</td>\n",
              "      <td>9.20</td>\n",
              "      <td>0.61</td>\n",
              "      <td>1.60</td>\n",
              "      <td>560</td>\n",
              "      <td>3</td>\n",
              "    </tr>\n",
              "  </tbody>\n",
              "</table>\n",
              "<p>178 rows × 14 columns</p>\n",
              "</div>\n",
              "      <button class=\"colab-df-convert\" onclick=\"convertToInteractive('df-0897d2ec-7f99-4e00-96cf-279012dbd31b')\"\n",
              "              title=\"Convert this dataframe to an interactive table.\"\n",
              "              style=\"display:none;\">\n",
              "        \n",
              "  <svg xmlns=\"http://www.w3.org/2000/svg\" height=\"24px\"viewBox=\"0 0 24 24\"\n",
              "       width=\"24px\">\n",
              "    <path d=\"M0 0h24v24H0V0z\" fill=\"none\"/>\n",
              "    <path d=\"M18.56 5.44l.94 2.06.94-2.06 2.06-.94-2.06-.94-.94-2.06-.94 2.06-2.06.94zm-11 1L8.5 8.5l.94-2.06 2.06-.94-2.06-.94L8.5 2.5l-.94 2.06-2.06.94zm10 10l.94 2.06.94-2.06 2.06-.94-2.06-.94-.94-2.06-.94 2.06-2.06.94z\"/><path d=\"M17.41 7.96l-1.37-1.37c-.4-.4-.92-.59-1.43-.59-.52 0-1.04.2-1.43.59L10.3 9.45l-7.72 7.72c-.78.78-.78 2.05 0 2.83L4 21.41c.39.39.9.59 1.41.59.51 0 1.02-.2 1.41-.59l7.78-7.78 2.81-2.81c.8-.78.8-2.07 0-2.86zM5.41 20L4 18.59l7.72-7.72 1.47 1.35L5.41 20z\"/>\n",
              "  </svg>\n",
              "      </button>\n",
              "      \n",
              "  <style>\n",
              "    .colab-df-container {\n",
              "      display:flex;\n",
              "      flex-wrap:wrap;\n",
              "      gap: 12px;\n",
              "    }\n",
              "\n",
              "    .colab-df-convert {\n",
              "      background-color: #E8F0FE;\n",
              "      border: none;\n",
              "      border-radius: 50%;\n",
              "      cursor: pointer;\n",
              "      display: none;\n",
              "      fill: #1967D2;\n",
              "      height: 32px;\n",
              "      padding: 0 0 0 0;\n",
              "      width: 32px;\n",
              "    }\n",
              "\n",
              "    .colab-df-convert:hover {\n",
              "      background-color: #E2EBFA;\n",
              "      box-shadow: 0px 1px 2px rgba(60, 64, 67, 0.3), 0px 1px 3px 1px rgba(60, 64, 67, 0.15);\n",
              "      fill: #174EA6;\n",
              "    }\n",
              "\n",
              "    [theme=dark] .colab-df-convert {\n",
              "      background-color: #3B4455;\n",
              "      fill: #D2E3FC;\n",
              "    }\n",
              "\n",
              "    [theme=dark] .colab-df-convert:hover {\n",
              "      background-color: #434B5C;\n",
              "      box-shadow: 0px 1px 3px 1px rgba(0, 0, 0, 0.15);\n",
              "      filter: drop-shadow(0px 1px 2px rgba(0, 0, 0, 0.3));\n",
              "      fill: #FFFFFF;\n",
              "    }\n",
              "  </style>\n",
              "\n",
              "      <script>\n",
              "        const buttonEl =\n",
              "          document.querySelector('#df-0897d2ec-7f99-4e00-96cf-279012dbd31b button.colab-df-convert');\n",
              "        buttonEl.style.display =\n",
              "          google.colab.kernel.accessAllowed ? 'block' : 'none';\n",
              "\n",
              "        async function convertToInteractive(key) {\n",
              "          const element = document.querySelector('#df-0897d2ec-7f99-4e00-96cf-279012dbd31b');\n",
              "          const dataTable =\n",
              "            await google.colab.kernel.invokeFunction('convertToInteractive',\n",
              "                                                     [key], {});\n",
              "          if (!dataTable) return;\n",
              "\n",
              "          const docLinkHtml = 'Like what you see? Visit the ' +\n",
              "            '<a target=\"_blank\" href=https://colab.research.google.com/notebooks/data_table.ipynb>data table notebook</a>'\n",
              "            + ' to learn more about interactive tables.';\n",
              "          element.innerHTML = '';\n",
              "          dataTable['output_type'] = 'display_data';\n",
              "          await google.colab.output.renderOutput(dataTable, element);\n",
              "          const docLink = document.createElement('div');\n",
              "          docLink.innerHTML = docLinkHtml;\n",
              "          element.appendChild(docLink);\n",
              "        }\n",
              "      </script>\n",
              "    </div>\n",
              "  </div>\n",
              "  "
            ]
          },
          "metadata": {},
          "execution_count": 132
        }
      ]
    },
    {
      "cell_type": "code",
      "source": [
        "df_large = [iris, wine, zoo, bank, diab, user, glass, seed]\n",
        "numrows = []\n",
        "for i in range(len(df_large)):\n",
        "  temp1 = len(df_large[i])\n",
        "  numrows.append(temp1)"
      ],
      "metadata": {
        "id": "_YCA5K8mAjGi"
      },
      "execution_count": 127,
      "outputs": []
    },
    {
      "cell_type": "code",
      "source": [
        "numrows"
      ],
      "metadata": {
        "colab": {
          "base_uri": "https://localhost:8080/"
        },
        "id": "HYEgnr9QBKp1",
        "outputId": "5136db1f-e314-422c-bacd-a2a910cef95c"
      },
      "execution_count": 128,
      "outputs": [
        {
          "output_type": "execute_result",
          "data": {
            "text/plain": [
              "[150, 178, 101, 1372, 768, 258, 214, 210]"
            ]
          },
          "metadata": {},
          "execution_count": 128
        }
      ]
    },
    {
      "cell_type": "code",
      "source": [
        "class rfg_classifier():\n",
        "  def __init__(self, dataset, names):\n",
        "    # Split dataset to train and label\n",
        "    self.names = names\n",
        "    global X\n",
        "    global y\n",
        "    X, y = self.pre_process(dataset)\n",
        "    self.X_train, self.X_test, self.y_train, self.y_test = train_test_split(X, y, test_size=0.2, random_state=42)\n",
        "    self.clf = RandomForestClassifier(max_depth=3, random_state=42)\n",
        "\n",
        "\n",
        "  def train_model(self):\n",
        "    self.clf.fit(self.X_train, self.y_train)\n",
        "\n",
        "  def pre_process(self, dataset):\n",
        "    x_data = dataset.iloc[:, :-1 ]\n",
        "    y_data = dataset.iloc[:, -1: ]\n",
        "    x_transformed = pd.DataFrame()\n",
        "    # x_data = ohe.fit_transform(x_data)\n",
        "\n",
        "    # For categorical data, have \n",
        "    for x in range(len(self.names)):\n",
        "      ohe = OneHotEncoder()\n",
        "      if self.names[x] == 'categorical':\n",
        "        temp_value = ohe.fit_transform(x_data.iloc[:,[x]])\n",
        "        x_data[ohe.categories_[0]] = temp_value.toarray()\n",
        "        x_transformed[ohe.categories_[0]] = temp_value.toarray()\n",
        "      else:\n",
        "        x_transformed[x] = x_data.iloc[:,[x]]\n",
        "\n",
        "    ohe = OneHotEncoder(handle_unknown='ignore', sparse=False)\n",
        "    y_data = ohe.fit_transform(np.array(y_data))\n",
        "    return x_transformed, y_data\n",
        "\n",
        "\n",
        "  def predict(self):\n",
        "    results = self.clf.predict(self.X_test)\n",
        "    print(accuracy_score(self.y_test, results))\n",
        "    print(classification_report(self.y_test, results))\n",
        "    return results\n",
        "\n",
        "  def predict_cv(self):\n",
        "    score_rf=cross_val_score(self.clf,X, y,cv=10)\n",
        "    print(score_rf)\n",
        "    print(\"Avg :\",np.average(score_rf))\n"
      ],
      "metadata": {
        "id": "sYLBzJUZ-qO_"
      },
      "execution_count": 117,
      "outputs": []
    },
    {
      "cell_type": "markdown",
      "source": [
        "# wine"
      ],
      "metadata": {
        "id": "wKqeEO1-gTpq"
      }
    },
    {
      "cell_type": "code",
      "source": [
        "wine_classifier = rfg_classifier(wine ,['numerical','numerical','numerical','numerical','numerical','numerical','numerical','numerical','numerical','numerical','numerical','numerical'])\n",
        "wine_classifier.train_model()\n",
        "wine_classifier.predict()\n",
        "print()"
      ],
      "metadata": {
        "colab": {
          "base_uri": "https://localhost:8080/"
        },
        "id": "YWvjO-3nAHUc",
        "outputId": "5e90c0bb-9668-44de-8860-a5e31bc01e69"
      },
      "execution_count": 8,
      "outputs": [
        {
          "output_type": "stream",
          "name": "stdout",
          "text": [
            "0.9722222222222222\n",
            "              precision    recall  f1-score   support\n",
            "\n",
            "           0       0.93      1.00      0.97        14\n",
            "           1       1.00      0.93      0.96        14\n",
            "           2       1.00      1.00      1.00         8\n",
            "\n",
            "   micro avg       0.97      0.97      0.97        36\n",
            "   macro avg       0.98      0.98      0.98        36\n",
            "weighted avg       0.97      0.97      0.97        36\n",
            " samples avg       0.97      0.97      0.97        36\n",
            "\n",
            "\n"
          ]
        }
      ]
    },
    {
      "cell_type": "code",
      "source": [
        "wine_cv = rfg_classifier(wine ,['numerical','numerical','numerical','numerical','numerical','numerical','numerical','numerical','numerical','numerical','numerical','numerical'])\n",
        "wine_cv.train_model()\n",
        "wine_cv.predict_cv()\n",
        "print()"
      ],
      "metadata": {
        "colab": {
          "base_uri": "https://localhost:8080/"
        },
        "id": "2pDsky50fDYt",
        "outputId": "b035bced-2fce-403b-d162-5cd7b1df57f1"
      },
      "execution_count": 9,
      "outputs": [
        {
          "output_type": "stream",
          "name": "stdout",
          "text": [
            "[1.         0.83333333 0.94444444 0.88888889 0.83333333 1.\n",
            " 0.94444444 0.88888889 0.94117647 1.        ]\n",
            "Avg : 0.9274509803921569\n",
            "\n"
          ]
        }
      ]
    },
    {
      "cell_type": "markdown",
      "source": [
        "# Iris"
      ],
      "metadata": {
        "id": "DDsjq0iXg_uW"
      }
    },
    {
      "cell_type": "code",
      "source": [
        "iris_classifier = rfg_classifier(iris, ['numerical','numerical','numerical','numerical'])\n",
        "iris_classifier.train_model()\n",
        "iris_classifier.predict()\n",
        "print()"
      ],
      "metadata": {
        "colab": {
          "base_uri": "https://localhost:8080/"
        },
        "id": "JU6VaDBvC6HF",
        "outputId": "3406a0cf-e762-4630-b4b1-a7462c3d39ec"
      },
      "execution_count": 10,
      "outputs": [
        {
          "output_type": "stream",
          "name": "stdout",
          "text": [
            "1.0\n",
            "              precision    recall  f1-score   support\n",
            "\n",
            "           0       1.00      1.00      1.00        10\n",
            "           1       1.00      1.00      1.00         9\n",
            "           2       1.00      1.00      1.00        11\n",
            "\n",
            "   micro avg       1.00      1.00      1.00        30\n",
            "   macro avg       1.00      1.00      1.00        30\n",
            "weighted avg       1.00      1.00      1.00        30\n",
            " samples avg       1.00      1.00      1.00        30\n",
            "\n",
            "\n"
          ]
        }
      ]
    },
    {
      "cell_type": "code",
      "source": [
        "iris_cv = rfg_classifier(iris, ['numerical','numerical','numerical','numerical'])\n",
        "iris_cv.train_model()\n",
        "iris_cv.predict_cv()\n",
        "print()"
      ],
      "metadata": {
        "colab": {
          "base_uri": "https://localhost:8080/"
        },
        "id": "0Y0K7ROohrpc",
        "outputId": "0c4b7db6-915b-41c0-f118-27b9792537b2"
      },
      "execution_count": 11,
      "outputs": [
        {
          "output_type": "stream",
          "name": "stdout",
          "text": [
            "[1.         1.         1.         1.         0.93333333 0.86666667\n",
            " 1.         0.86666667 0.8        1.        ]\n",
            "Avg : 0.9466666666666667\n",
            "\n"
          ]
        }
      ]
    },
    {
      "cell_type": "markdown",
      "source": [
        "# German (not used)"
      ],
      "metadata": {
        "id": "zE20DzfAhBXi"
      }
    },
    {
      "cell_type": "code",
      "source": [
        "german_classifier = rfg_classifier(german, ['categorical','numerical','categorical','categorical','numerical','categorical','categorical','numerical','categorical','categorical','numerical','categorical','numerical','categorical','categorical','numerical','categorical','numerical','categorical','categorical'])\n",
        "german_classifier.train_model()\n",
        "german_classifier.predict()\n",
        "print()"
      ],
      "metadata": {
        "colab": {
          "base_uri": "https://localhost:8080/"
        },
        "id": "wtSgU8x39php",
        "outputId": "308bfa2b-be82-4970-c93e-9d5a9e5e24b8"
      },
      "execution_count": 12,
      "outputs": [
        {
          "output_type": "stream",
          "name": "stdout",
          "text": [
            "0.715\n",
            "              precision    recall  f1-score   support\n",
            "\n",
            "           0       0.71      1.00      0.83       141\n",
            "           1       1.00      0.03      0.07        59\n",
            "\n",
            "   micro avg       0.71      0.71      0.71       200\n",
            "   macro avg       0.86      0.52      0.45       200\n",
            "weighted avg       0.80      0.71      0.61       200\n",
            " samples avg       0.71      0.71      0.71       200\n",
            "\n",
            "\n"
          ]
        },
        {
          "output_type": "stream",
          "name": "stderr",
          "text": [
            "/usr/local/lib/python3.7/dist-packages/sklearn/utils/validation.py:1692: FutureWarning: Feature names only support names that are all strings. Got feature names with dtypes: ['int', 'str']. An error will be raised in 1.2.\n",
            "  FutureWarning,\n",
            "/usr/local/lib/python3.7/dist-packages/sklearn/utils/validation.py:1692: FutureWarning: Feature names only support names that are all strings. Got feature names with dtypes: ['int', 'str']. An error will be raised in 1.2.\n",
            "  FutureWarning,\n"
          ]
        }
      ]
    },
    {
      "cell_type": "code",
      "source": [
        "german_cv = rfg_classifier(german, ['categorical','numerical','categorical','categorical','numerical','categorical','categorical','numerical','categorical','categorical','numerical','categorical','numerical','categorical','categorical','numerical','categorical','numerical','categorical','categorical'])\n",
        "german_cv.train_model()\n",
        "german_cv.predict_cv()\n",
        "print()"
      ],
      "metadata": {
        "colab": {
          "base_uri": "https://localhost:8080/"
        },
        "id": "V5sfbZOlh-z3",
        "outputId": "a14f6359-d7b7-4451-f78a-4070b2910917"
      },
      "execution_count": 13,
      "outputs": [
        {
          "output_type": "stream",
          "name": "stderr",
          "text": [
            "/usr/local/lib/python3.7/dist-packages/sklearn/utils/validation.py:1692: FutureWarning: Feature names only support names that are all strings. Got feature names with dtypes: ['int', 'str']. An error will be raised in 1.2.\n",
            "  FutureWarning,\n",
            "/usr/local/lib/python3.7/dist-packages/sklearn/utils/validation.py:1692: FutureWarning: Feature names only support names that are all strings. Got feature names with dtypes: ['int', 'str']. An error will be raised in 1.2.\n",
            "  FutureWarning,\n",
            "/usr/local/lib/python3.7/dist-packages/sklearn/utils/validation.py:1692: FutureWarning: Feature names only support names that are all strings. Got feature names with dtypes: ['int', 'str']. An error will be raised in 1.2.\n",
            "  FutureWarning,\n",
            "/usr/local/lib/python3.7/dist-packages/sklearn/utils/validation.py:1692: FutureWarning: Feature names only support names that are all strings. Got feature names with dtypes: ['int', 'str']. An error will be raised in 1.2.\n",
            "  FutureWarning,\n",
            "/usr/local/lib/python3.7/dist-packages/sklearn/utils/validation.py:1692: FutureWarning: Feature names only support names that are all strings. Got feature names with dtypes: ['int', 'str']. An error will be raised in 1.2.\n",
            "  FutureWarning,\n",
            "/usr/local/lib/python3.7/dist-packages/sklearn/utils/validation.py:1692: FutureWarning: Feature names only support names that are all strings. Got feature names with dtypes: ['int', 'str']. An error will be raised in 1.2.\n",
            "  FutureWarning,\n",
            "/usr/local/lib/python3.7/dist-packages/sklearn/utils/validation.py:1692: FutureWarning: Feature names only support names that are all strings. Got feature names with dtypes: ['int', 'str']. An error will be raised in 1.2.\n",
            "  FutureWarning,\n",
            "/usr/local/lib/python3.7/dist-packages/sklearn/utils/validation.py:1692: FutureWarning: Feature names only support names that are all strings. Got feature names with dtypes: ['int', 'str']. An error will be raised in 1.2.\n",
            "  FutureWarning,\n",
            "/usr/local/lib/python3.7/dist-packages/sklearn/utils/validation.py:1692: FutureWarning: Feature names only support names that are all strings. Got feature names with dtypes: ['int', 'str']. An error will be raised in 1.2.\n",
            "  FutureWarning,\n",
            "/usr/local/lib/python3.7/dist-packages/sklearn/utils/validation.py:1692: FutureWarning: Feature names only support names that are all strings. Got feature names with dtypes: ['int', 'str']. An error will be raised in 1.2.\n",
            "  FutureWarning,\n",
            "/usr/local/lib/python3.7/dist-packages/sklearn/utils/validation.py:1692: FutureWarning: Feature names only support names that are all strings. Got feature names with dtypes: ['int', 'str']. An error will be raised in 1.2.\n",
            "  FutureWarning,\n",
            "/usr/local/lib/python3.7/dist-packages/sklearn/utils/validation.py:1692: FutureWarning: Feature names only support names that are all strings. Got feature names with dtypes: ['int', 'str']. An error will be raised in 1.2.\n",
            "  FutureWarning,\n",
            "/usr/local/lib/python3.7/dist-packages/sklearn/utils/validation.py:1692: FutureWarning: Feature names only support names that are all strings. Got feature names with dtypes: ['int', 'str']. An error will be raised in 1.2.\n",
            "  FutureWarning,\n",
            "/usr/local/lib/python3.7/dist-packages/sklearn/utils/validation.py:1692: FutureWarning: Feature names only support names that are all strings. Got feature names with dtypes: ['int', 'str']. An error will be raised in 1.2.\n",
            "  FutureWarning,\n",
            "/usr/local/lib/python3.7/dist-packages/sklearn/utils/validation.py:1692: FutureWarning: Feature names only support names that are all strings. Got feature names with dtypes: ['int', 'str']. An error will be raised in 1.2.\n",
            "  FutureWarning,\n",
            "/usr/local/lib/python3.7/dist-packages/sklearn/utils/validation.py:1692: FutureWarning: Feature names only support names that are all strings. Got feature names with dtypes: ['int', 'str']. An error will be raised in 1.2.\n",
            "  FutureWarning,\n",
            "/usr/local/lib/python3.7/dist-packages/sklearn/utils/validation.py:1692: FutureWarning: Feature names only support names that are all strings. Got feature names with dtypes: ['int', 'str']. An error will be raised in 1.2.\n",
            "  FutureWarning,\n",
            "/usr/local/lib/python3.7/dist-packages/sklearn/utils/validation.py:1692: FutureWarning: Feature names only support names that are all strings. Got feature names with dtypes: ['int', 'str']. An error will be raised in 1.2.\n",
            "  FutureWarning,\n",
            "/usr/local/lib/python3.7/dist-packages/sklearn/utils/validation.py:1692: FutureWarning: Feature names only support names that are all strings. Got feature names with dtypes: ['int', 'str']. An error will be raised in 1.2.\n",
            "  FutureWarning,\n"
          ]
        },
        {
          "output_type": "stream",
          "name": "stdout",
          "text": [
            "[0.76 0.68 0.78 0.73 0.72 0.6  0.69 0.68 0.72 0.68]\n",
            "Avg : 0.704\n",
            "\n"
          ]
        },
        {
          "output_type": "stream",
          "name": "stderr",
          "text": [
            "/usr/local/lib/python3.7/dist-packages/sklearn/utils/validation.py:1692: FutureWarning: Feature names only support names that are all strings. Got feature names with dtypes: ['int', 'str']. An error will be raised in 1.2.\n",
            "  FutureWarning,\n",
            "/usr/local/lib/python3.7/dist-packages/sklearn/utils/validation.py:1692: FutureWarning: Feature names only support names that are all strings. Got feature names with dtypes: ['int', 'str']. An error will be raised in 1.2.\n",
            "  FutureWarning,\n"
          ]
        }
      ]
    },
    {
      "cell_type": "markdown",
      "source": [
        "# Zoo"
      ],
      "metadata": {
        "id": "XjH_oQojhDwM"
      }
    },
    {
      "cell_type": "code",
      "source": [
        "zoo_classifier = rfg_classifier(zoo, ['categorical','categorical','categorical','categorical','categorical','categorical','categorical','categorical','categorical','categorical','categorical','categorical','numerical','categorical','categorical'])\n",
        "zoo_classifier.train_model()\n",
        "zoo_classifier.predict()\n",
        "print()\n"
      ],
      "metadata": {
        "colab": {
          "base_uri": "https://localhost:8080/"
        },
        "id": "MDDJC97E9pj8",
        "outputId": "a673f431-c742-43d9-bd9c-80af22ef4177"
      },
      "execution_count": 14,
      "outputs": [
        {
          "output_type": "stream",
          "name": "stderr",
          "text": [
            "/usr/local/lib/python3.7/dist-packages/pandas/core/frame.py:3678: SettingWithCopyWarning: \n",
            "A value is trying to be set on a copy of a slice from a DataFrame.\n",
            "Try using .loc[row_indexer,col_indexer] = value instead\n",
            "\n",
            "See the caveats in the documentation: https://pandas.pydata.org/pandas-docs/stable/user_guide/indexing.html#returning-a-view-versus-a-copy\n",
            "  self[col] = igetitem(value, i)\n",
            "/usr/local/lib/python3.7/dist-packages/pandas/core/frame.py:3678: SettingWithCopyWarning: \n",
            "A value is trying to be set on a copy of a slice from a DataFrame.\n",
            "Try using .loc[row_indexer,col_indexer] = value instead\n",
            "\n",
            "See the caveats in the documentation: https://pandas.pydata.org/pandas-docs/stable/user_guide/indexing.html#returning-a-view-versus-a-copy\n",
            "  self[col] = igetitem(value, i)\n",
            "/usr/local/lib/python3.7/dist-packages/pandas/core/frame.py:3678: SettingWithCopyWarning: \n",
            "A value is trying to be set on a copy of a slice from a DataFrame.\n",
            "Try using .loc[row_indexer,col_indexer] = value instead\n",
            "\n",
            "See the caveats in the documentation: https://pandas.pydata.org/pandas-docs/stable/user_guide/indexing.html#returning-a-view-versus-a-copy\n",
            "  self[col] = igetitem(value, i)\n",
            "/usr/local/lib/python3.7/dist-packages/pandas/core/frame.py:3678: SettingWithCopyWarning: \n",
            "A value is trying to be set on a copy of a slice from a DataFrame.\n",
            "Try using .loc[row_indexer,col_indexer] = value instead\n",
            "\n",
            "See the caveats in the documentation: https://pandas.pydata.org/pandas-docs/stable/user_guide/indexing.html#returning-a-view-versus-a-copy\n",
            "  self[col] = igetitem(value, i)\n",
            "/usr/local/lib/python3.7/dist-packages/pandas/core/frame.py:3678: SettingWithCopyWarning: \n",
            "A value is trying to be set on a copy of a slice from a DataFrame.\n",
            "Try using .loc[row_indexer,col_indexer] = value instead\n",
            "\n",
            "See the caveats in the documentation: https://pandas.pydata.org/pandas-docs/stable/user_guide/indexing.html#returning-a-view-versus-a-copy\n",
            "  self[col] = igetitem(value, i)\n",
            "/usr/local/lib/python3.7/dist-packages/pandas/core/frame.py:3678: SettingWithCopyWarning: \n",
            "A value is trying to be set on a copy of a slice from a DataFrame.\n",
            "Try using .loc[row_indexer,col_indexer] = value instead\n",
            "\n",
            "See the caveats in the documentation: https://pandas.pydata.org/pandas-docs/stable/user_guide/indexing.html#returning-a-view-versus-a-copy\n",
            "  self[col] = igetitem(value, i)\n",
            "/usr/local/lib/python3.7/dist-packages/pandas/core/frame.py:3678: SettingWithCopyWarning: \n",
            "A value is trying to be set on a copy of a slice from a DataFrame.\n",
            "Try using .loc[row_indexer,col_indexer] = value instead\n",
            "\n",
            "See the caveats in the documentation: https://pandas.pydata.org/pandas-docs/stable/user_guide/indexing.html#returning-a-view-versus-a-copy\n",
            "  self[col] = igetitem(value, i)\n",
            "/usr/local/lib/python3.7/dist-packages/pandas/core/frame.py:3678: SettingWithCopyWarning: \n",
            "A value is trying to be set on a copy of a slice from a DataFrame.\n",
            "Try using .loc[row_indexer,col_indexer] = value instead\n",
            "\n",
            "See the caveats in the documentation: https://pandas.pydata.org/pandas-docs/stable/user_guide/indexing.html#returning-a-view-versus-a-copy\n",
            "  self[col] = igetitem(value, i)\n",
            "/usr/local/lib/python3.7/dist-packages/pandas/core/frame.py:3678: SettingWithCopyWarning: \n",
            "A value is trying to be set on a copy of a slice from a DataFrame.\n",
            "Try using .loc[row_indexer,col_indexer] = value instead\n",
            "\n",
            "See the caveats in the documentation: https://pandas.pydata.org/pandas-docs/stable/user_guide/indexing.html#returning-a-view-versus-a-copy\n",
            "  self[col] = igetitem(value, i)\n",
            "/usr/local/lib/python3.7/dist-packages/pandas/core/frame.py:3678: SettingWithCopyWarning: \n",
            "A value is trying to be set on a copy of a slice from a DataFrame.\n",
            "Try using .loc[row_indexer,col_indexer] = value instead\n",
            "\n",
            "See the caveats in the documentation: https://pandas.pydata.org/pandas-docs/stable/user_guide/indexing.html#returning-a-view-versus-a-copy\n",
            "  self[col] = igetitem(value, i)\n",
            "/usr/local/lib/python3.7/dist-packages/pandas/core/frame.py:3678: SettingWithCopyWarning: \n",
            "A value is trying to be set on a copy of a slice from a DataFrame.\n",
            "Try using .loc[row_indexer,col_indexer] = value instead\n",
            "\n",
            "See the caveats in the documentation: https://pandas.pydata.org/pandas-docs/stable/user_guide/indexing.html#returning-a-view-versus-a-copy\n",
            "  self[col] = igetitem(value, i)\n",
            "/usr/local/lib/python3.7/dist-packages/pandas/core/frame.py:3678: SettingWithCopyWarning: \n",
            "A value is trying to be set on a copy of a slice from a DataFrame.\n",
            "Try using .loc[row_indexer,col_indexer] = value instead\n",
            "\n",
            "See the caveats in the documentation: https://pandas.pydata.org/pandas-docs/stable/user_guide/indexing.html#returning-a-view-versus-a-copy\n",
            "  self[col] = igetitem(value, i)\n",
            "/usr/local/lib/python3.7/dist-packages/pandas/core/frame.py:3678: SettingWithCopyWarning: \n",
            "A value is trying to be set on a copy of a slice from a DataFrame.\n",
            "Try using .loc[row_indexer,col_indexer] = value instead\n",
            "\n",
            "See the caveats in the documentation: https://pandas.pydata.org/pandas-docs/stable/user_guide/indexing.html#returning-a-view-versus-a-copy\n",
            "  self[col] = igetitem(value, i)\n",
            "/usr/local/lib/python3.7/dist-packages/pandas/core/frame.py:3678: SettingWithCopyWarning: \n",
            "A value is trying to be set on a copy of a slice from a DataFrame.\n",
            "Try using .loc[row_indexer,col_indexer] = value instead\n",
            "\n",
            "See the caveats in the documentation: https://pandas.pydata.org/pandas-docs/stable/user_guide/indexing.html#returning-a-view-versus-a-copy\n",
            "  self[col] = igetitem(value, i)\n"
          ]
        },
        {
          "output_type": "stream",
          "name": "stdout",
          "text": [
            "0.6190476190476191\n",
            "              precision    recall  f1-score   support\n",
            "\n",
            "           0       0.90      0.75      0.82        12\n",
            "           1       0.50      1.00      0.67         2\n",
            "           2       0.00      0.00      0.00         1\n",
            "           3       0.40      1.00      0.57         2\n",
            "           4       0.00      0.00      0.00         0\n",
            "           5       0.00      0.00      0.00         3\n",
            "           6       0.00      0.00      0.00         1\n",
            "\n",
            "   micro avg       0.68      0.62      0.65        21\n",
            "   macro avg       0.26      0.39      0.29        21\n",
            "weighted avg       0.60      0.62      0.59        21\n",
            " samples avg       0.62      0.62      0.62        21\n",
            "\n",
            "\n"
          ]
        },
        {
          "output_type": "stream",
          "name": "stderr",
          "text": [
            "/usr/local/lib/python3.7/dist-packages/sklearn/metrics/_classification.py:1318: UndefinedMetricWarning: Precision and F-score are ill-defined and being set to 0.0 in labels with no predicted samples. Use `zero_division` parameter to control this behavior.\n",
            "  _warn_prf(average, modifier, msg_start, len(result))\n",
            "/usr/local/lib/python3.7/dist-packages/sklearn/metrics/_classification.py:1318: UndefinedMetricWarning: Recall and F-score are ill-defined and being set to 0.0 in labels with no true samples. Use `zero_division` parameter to control this behavior.\n",
            "  _warn_prf(average, modifier, msg_start, len(result))\n",
            "/usr/local/lib/python3.7/dist-packages/sklearn/metrics/_classification.py:1318: UndefinedMetricWarning: Precision and F-score are ill-defined and being set to 0.0 in samples with no predicted labels. Use `zero_division` parameter to control this behavior.\n",
            "  _warn_prf(average, modifier, msg_start, len(result))\n"
          ]
        }
      ]
    },
    {
      "cell_type": "code",
      "source": [
        "zoo_cv = rfg_classifier(zoo, ['categorical','categorical','categorical','categorical','categorical','categorical','categorical','categorical','categorical','categorical','categorical','categorical','numerical','categorical','categorical'])\n",
        "zoo_cv.train_model()\n",
        "zoo_cv.predict_cv()\n",
        "print()"
      ],
      "metadata": {
        "colab": {
          "base_uri": "https://localhost:8080/"
        },
        "id": "T3OkDsOFiGh9",
        "outputId": "dc4606e2-6914-4279-8acc-d3bf106ca69d"
      },
      "execution_count": 15,
      "outputs": [
        {
          "output_type": "stream",
          "name": "stderr",
          "text": [
            "/usr/local/lib/python3.7/dist-packages/pandas/core/frame.py:3678: SettingWithCopyWarning: \n",
            "A value is trying to be set on a copy of a slice from a DataFrame.\n",
            "Try using .loc[row_indexer,col_indexer] = value instead\n",
            "\n",
            "See the caveats in the documentation: https://pandas.pydata.org/pandas-docs/stable/user_guide/indexing.html#returning-a-view-versus-a-copy\n",
            "  self[col] = igetitem(value, i)\n",
            "/usr/local/lib/python3.7/dist-packages/pandas/core/frame.py:3678: SettingWithCopyWarning: \n",
            "A value is trying to be set on a copy of a slice from a DataFrame.\n",
            "Try using .loc[row_indexer,col_indexer] = value instead\n",
            "\n",
            "See the caveats in the documentation: https://pandas.pydata.org/pandas-docs/stable/user_guide/indexing.html#returning-a-view-versus-a-copy\n",
            "  self[col] = igetitem(value, i)\n",
            "/usr/local/lib/python3.7/dist-packages/pandas/core/frame.py:3678: SettingWithCopyWarning: \n",
            "A value is trying to be set on a copy of a slice from a DataFrame.\n",
            "Try using .loc[row_indexer,col_indexer] = value instead\n",
            "\n",
            "See the caveats in the documentation: https://pandas.pydata.org/pandas-docs/stable/user_guide/indexing.html#returning-a-view-versus-a-copy\n",
            "  self[col] = igetitem(value, i)\n",
            "/usr/local/lib/python3.7/dist-packages/pandas/core/frame.py:3678: SettingWithCopyWarning: \n",
            "A value is trying to be set on a copy of a slice from a DataFrame.\n",
            "Try using .loc[row_indexer,col_indexer] = value instead\n",
            "\n",
            "See the caveats in the documentation: https://pandas.pydata.org/pandas-docs/stable/user_guide/indexing.html#returning-a-view-versus-a-copy\n",
            "  self[col] = igetitem(value, i)\n",
            "/usr/local/lib/python3.7/dist-packages/pandas/core/frame.py:3678: SettingWithCopyWarning: \n",
            "A value is trying to be set on a copy of a slice from a DataFrame.\n",
            "Try using .loc[row_indexer,col_indexer] = value instead\n",
            "\n",
            "See the caveats in the documentation: https://pandas.pydata.org/pandas-docs/stable/user_guide/indexing.html#returning-a-view-versus-a-copy\n",
            "  self[col] = igetitem(value, i)\n",
            "/usr/local/lib/python3.7/dist-packages/pandas/core/frame.py:3678: SettingWithCopyWarning: \n",
            "A value is trying to be set on a copy of a slice from a DataFrame.\n",
            "Try using .loc[row_indexer,col_indexer] = value instead\n",
            "\n",
            "See the caveats in the documentation: https://pandas.pydata.org/pandas-docs/stable/user_guide/indexing.html#returning-a-view-versus-a-copy\n",
            "  self[col] = igetitem(value, i)\n",
            "/usr/local/lib/python3.7/dist-packages/pandas/core/frame.py:3678: SettingWithCopyWarning: \n",
            "A value is trying to be set on a copy of a slice from a DataFrame.\n",
            "Try using .loc[row_indexer,col_indexer] = value instead\n",
            "\n",
            "See the caveats in the documentation: https://pandas.pydata.org/pandas-docs/stable/user_guide/indexing.html#returning-a-view-versus-a-copy\n",
            "  self[col] = igetitem(value, i)\n",
            "/usr/local/lib/python3.7/dist-packages/pandas/core/frame.py:3678: SettingWithCopyWarning: \n",
            "A value is trying to be set on a copy of a slice from a DataFrame.\n",
            "Try using .loc[row_indexer,col_indexer] = value instead\n",
            "\n",
            "See the caveats in the documentation: https://pandas.pydata.org/pandas-docs/stable/user_guide/indexing.html#returning-a-view-versus-a-copy\n",
            "  self[col] = igetitem(value, i)\n",
            "/usr/local/lib/python3.7/dist-packages/pandas/core/frame.py:3678: SettingWithCopyWarning: \n",
            "A value is trying to be set on a copy of a slice from a DataFrame.\n",
            "Try using .loc[row_indexer,col_indexer] = value instead\n",
            "\n",
            "See the caveats in the documentation: https://pandas.pydata.org/pandas-docs/stable/user_guide/indexing.html#returning-a-view-versus-a-copy\n",
            "  self[col] = igetitem(value, i)\n",
            "/usr/local/lib/python3.7/dist-packages/pandas/core/frame.py:3678: SettingWithCopyWarning: \n",
            "A value is trying to be set on a copy of a slice from a DataFrame.\n",
            "Try using .loc[row_indexer,col_indexer] = value instead\n",
            "\n",
            "See the caveats in the documentation: https://pandas.pydata.org/pandas-docs/stable/user_guide/indexing.html#returning-a-view-versus-a-copy\n",
            "  self[col] = igetitem(value, i)\n",
            "/usr/local/lib/python3.7/dist-packages/pandas/core/frame.py:3678: SettingWithCopyWarning: \n",
            "A value is trying to be set on a copy of a slice from a DataFrame.\n",
            "Try using .loc[row_indexer,col_indexer] = value instead\n",
            "\n",
            "See the caveats in the documentation: https://pandas.pydata.org/pandas-docs/stable/user_guide/indexing.html#returning-a-view-versus-a-copy\n",
            "  self[col] = igetitem(value, i)\n",
            "/usr/local/lib/python3.7/dist-packages/pandas/core/frame.py:3678: SettingWithCopyWarning: \n",
            "A value is trying to be set on a copy of a slice from a DataFrame.\n",
            "Try using .loc[row_indexer,col_indexer] = value instead\n",
            "\n",
            "See the caveats in the documentation: https://pandas.pydata.org/pandas-docs/stable/user_guide/indexing.html#returning-a-view-versus-a-copy\n",
            "  self[col] = igetitem(value, i)\n",
            "/usr/local/lib/python3.7/dist-packages/pandas/core/frame.py:3678: SettingWithCopyWarning: \n",
            "A value is trying to be set on a copy of a slice from a DataFrame.\n",
            "Try using .loc[row_indexer,col_indexer] = value instead\n",
            "\n",
            "See the caveats in the documentation: https://pandas.pydata.org/pandas-docs/stable/user_guide/indexing.html#returning-a-view-versus-a-copy\n",
            "  self[col] = igetitem(value, i)\n",
            "/usr/local/lib/python3.7/dist-packages/pandas/core/frame.py:3678: SettingWithCopyWarning: \n",
            "A value is trying to be set on a copy of a slice from a DataFrame.\n",
            "Try using .loc[row_indexer,col_indexer] = value instead\n",
            "\n",
            "See the caveats in the documentation: https://pandas.pydata.org/pandas-docs/stable/user_guide/indexing.html#returning-a-view-versus-a-copy\n",
            "  self[col] = igetitem(value, i)\n"
          ]
        },
        {
          "output_type": "stream",
          "name": "stdout",
          "text": [
            "[0.72727273 0.4        0.4        0.6        0.9        0.8\n",
            " 0.8        0.4        0.3        0.5       ]\n",
            "Avg : 0.5827272727272728\n",
            "\n"
          ]
        }
      ]
    },
    {
      "cell_type": "markdown",
      "source": [
        "# Bank"
      ],
      "metadata": {
        "id": "2U372zk2hGQ2"
      }
    },
    {
      "cell_type": "code",
      "source": [
        "bank_classifier = rfg_classifier(bank, ['numerical','numerical','numerical','numerical'])\n",
        "bank_classifier.train_model()\n",
        "bank_classifier.predict()\n",
        "print()"
      ],
      "metadata": {
        "id": "9W_upUjJNB2H",
        "colab": {
          "base_uri": "https://localhost:8080/"
        },
        "outputId": "f36d0888-a3ae-4394-951d-7cc730ee3e25"
      },
      "execution_count": 16,
      "outputs": [
        {
          "output_type": "stream",
          "name": "stdout",
          "text": [
            "0.9381818181818182\n",
            "              precision    recall  f1-score   support\n",
            "\n",
            "           0       0.92      0.97      0.94       148\n",
            "           1       0.96      0.91      0.93       127\n",
            "\n",
            "   micro avg       0.94      0.94      0.94       275\n",
            "   macro avg       0.94      0.94      0.94       275\n",
            "weighted avg       0.94      0.94      0.94       275\n",
            " samples avg       0.94      0.94      0.94       275\n",
            "\n",
            "\n"
          ]
        }
      ]
    },
    {
      "cell_type": "code",
      "source": [
        "bank_cv = rfg_classifier(bank, ['numerical','numerical','numerical','numerical'])\n",
        "bank_cv.train_model()\n",
        "bank_cv.predict_cv()\n",
        "print()"
      ],
      "metadata": {
        "colab": {
          "base_uri": "https://localhost:8080/"
        },
        "id": "yEngWJVgiTFe",
        "outputId": "1c30f79c-9670-4ed4-a615-8b58aa919e25"
      },
      "execution_count": 17,
      "outputs": [
        {
          "output_type": "stream",
          "name": "stdout",
          "text": [
            "[0.96376812 0.95652174 0.90510949 0.96350365 0.96350365 0.96350365\n",
            " 0.94160584 0.91240876 0.95620438 0.94160584]\n",
            "Avg : 0.9467735110546915\n",
            "\n"
          ]
        }
      ]
    },
    {
      "cell_type": "markdown",
      "source": [
        "# Diabetes"
      ],
      "metadata": {
        "id": "ZJ0MpVVKhHlS"
      }
    },
    {
      "cell_type": "code",
      "source": [
        "diab_classifier = rfg_classifier(diab, ['numerical','numerical','numerical','numerical','numerical','numerical','numerical','numerical'])\n",
        "diab_classifier.train_model()\n",
        "diab_classifier.predict()\n",
        "print()"
      ],
      "metadata": {
        "colab": {
          "base_uri": "https://localhost:8080/"
        },
        "id": "VjuiBkw9-qOX",
        "outputId": "19661ef8-877e-43c0-ca17-73dbf44a07e7"
      },
      "execution_count": 18,
      "outputs": [
        {
          "output_type": "stream",
          "name": "stdout",
          "text": [
            "0.7727272727272727\n",
            "              precision    recall  f1-score   support\n",
            "\n",
            "           0       0.78      0.90      0.84        99\n",
            "           1       0.75      0.55      0.63        55\n",
            "\n",
            "   micro avg       0.77      0.77      0.77       154\n",
            "   macro avg       0.77      0.72      0.73       154\n",
            "weighted avg       0.77      0.77      0.76       154\n",
            " samples avg       0.77      0.77      0.77       154\n",
            "\n",
            "\n"
          ]
        }
      ]
    },
    {
      "cell_type": "code",
      "source": [
        "diab_cv = rfg_classifier(diab, ['numerical','numerical','numerical','numerical','numerical','numerical','numerical','numerical'])\n",
        "diab_cv.train_model()\n",
        "diab_cv.predict_cv()\n",
        "print()"
      ],
      "metadata": {
        "colab": {
          "base_uri": "https://localhost:8080/"
        },
        "id": "joFkVLL8iYg6",
        "outputId": "3be38af7-3bb2-4f74-8651-43e60f53a77e"
      },
      "execution_count": 19,
      "outputs": [
        {
          "output_type": "stream",
          "name": "stdout",
          "text": [
            "[0.7012987  0.81818182 0.68831169 0.67532468 0.76623377 0.81818182\n",
            " 0.81818182 0.84415584 0.73684211 0.76315789]\n",
            "Avg : 0.7629870129870131\n",
            "\n"
          ]
        }
      ]
    },
    {
      "cell_type": "markdown",
      "source": [
        "# User"
      ],
      "metadata": {
        "id": "JrQTD5pLhJfv"
      }
    },
    {
      "cell_type": "code",
      "source": [
        "user_classifier = rfg_classifier(user, ['numerical','numerical','numerical','numerical','numerical'])\n",
        "user_classifier.train_model()\n",
        "user_classifier.predict()\n",
        "print()"
      ],
      "metadata": {
        "colab": {
          "base_uri": "https://localhost:8080/"
        },
        "id": "hmkMD_Bi_uJx",
        "outputId": "3fb65adc-1a6f-429e-bf4e-7c59ae4e3a53"
      },
      "execution_count": 20,
      "outputs": [
        {
          "output_type": "stream",
          "name": "stdout",
          "text": [
            "0.7692307692307693\n",
            "              precision    recall  f1-score   support\n",
            "\n",
            "           0       1.00      1.00      1.00        13\n",
            "           1       0.68      0.93      0.79        14\n",
            "           2       1.00      0.81      0.90        16\n",
            "           3       1.00      0.11      0.20         9\n",
            "\n",
            "   micro avg       0.87      0.77      0.82        52\n",
            "   macro avg       0.92      0.71      0.72        52\n",
            "weighted avg       0.91      0.77      0.77        52\n",
            " samples avg       0.77      0.77      0.77        52\n",
            "\n",
            "\n"
          ]
        },
        {
          "output_type": "stream",
          "name": "stderr",
          "text": [
            "/usr/local/lib/python3.7/dist-packages/sklearn/metrics/_classification.py:1318: UndefinedMetricWarning: Precision and F-score are ill-defined and being set to 0.0 in samples with no predicted labels. Use `zero_division` parameter to control this behavior.\n",
            "  _warn_prf(average, modifier, msg_start, len(result))\n"
          ]
        }
      ]
    },
    {
      "cell_type": "code",
      "source": [
        "user_cv = rfg_classifier(user, ['numerical','numerical','numerical','numerical','numerical'])\n",
        "user_cv.train_model()\n",
        "user_cv.predict_cv()\n",
        "print()"
      ],
      "metadata": {
        "colab": {
          "base_uri": "https://localhost:8080/"
        },
        "id": "JXpIebgoigth",
        "outputId": "9ae25ff9-2090-4630-e3de-cb7478794c6d"
      },
      "execution_count": 21,
      "outputs": [
        {
          "output_type": "stream",
          "name": "stdout",
          "text": [
            "[0.80769231 0.80769231 0.73076923 0.84615385 0.80769231 0.76923077\n",
            " 0.92307692 0.69230769 0.8        0.88      ]\n",
            "Avg : 0.8064615384615385\n",
            "\n"
          ]
        }
      ]
    },
    {
      "cell_type": "markdown",
      "source": [
        "# Preprocessing for horse (not used)"
      ],
      "metadata": {
        "id": "kfzFLDr07IF2"
      }
    },
    {
      "cell_type": "code",
      "source": [
        "with open('horse-colic.names') as fp:\n",
        "    line = fp.readlines(1)\n",
        "    col = line[0].splitlines()\n",
        "    cols = list(col[0].split(','))\n",
        "\n",
        "options = {'header': None, 'names': cols, 'skipinitialspace': True}\n",
        "\n",
        "\n",
        "horse_df = pd.read_csv('horse-colic.data', **options)\n",
        "horse_df[cols] = horse_df[cols].replace({\"?\":np.nan})"
      ],
      "metadata": {
        "id": "NynyMfPAc8bZ"
      },
      "execution_count": 82,
      "outputs": []
    },
    {
      "cell_type": "code",
      "source": [
        "with open('horse-colic.names') as f:\n",
        "    line2 = f.readlines(-1)\n",
        "    col_type = line2[1].splitlines()\n",
        "    col_types = list(col_type[0].split(','))"
      ],
      "metadata": {
        "id": "IyFYCYLe6GQt"
      },
      "execution_count": 83,
      "outputs": []
    },
    {
      "cell_type": "code",
      "source": [
        "col_values = {}\n",
        "for i in range(len(cols)):\n",
        "    col_values[cols[i]] = [col_types[i], horse_df[cols[i]].dtype]"
      ],
      "metadata": {
        "id": "4LU-8Q_a6KdK"
      },
      "execution_count": 84,
      "outputs": []
    },
    {
      "cell_type": "code",
      "source": [
        "cat_data = []\n",
        "num_data = []\n",
        "for i in range(len(col_types)):\n",
        "    if(col_types[i] == 'numerical'):\n",
        "        num_data.append(cols[i])\n",
        "    else:\n",
        "        cat_data.append(cols[i])"
      ],
      "metadata": {
        "id": "sPSy1qgn6MoN"
      },
      "execution_count": 85,
      "outputs": []
    },
    {
      "cell_type": "code",
      "source": [
        "cols_to_drop = [] #drop cols with more than 50% NaN\n",
        "\n",
        "for col in num_data:\n",
        "    if( (pd.isna(horse_df[col]).sum()) > 0 ):\n",
        "        if( pd.isna(horse_df[col]).sum() > (50/100*len(horse_df[col])) ):\n",
        "            cols_to_drop.append(col)\n",
        "        else:\n",
        "            horse_df[col] = horse_df[col].fillna(horse_df[col].median())\n",
        "            \n",
        "for col in cat_data:\n",
        "    if( (pd.isna(horse_df[col]).sum()) > 0 ):\n",
        "        if( pd.isna(horse_df[col]).sum() > (50/100*len(horse_df)) ):\n",
        "            cols_to_drop.append(col)\n",
        "        else:\n",
        "            horse_df[col] = horse_df[col].fillna(horse_df[col].mode()[0])"
      ],
      "metadata": {
        "id": "9-Yuk7vS6Q4K"
      },
      "execution_count": 86,
      "outputs": []
    },
    {
      "cell_type": "code",
      "source": [
        "cols_to_drop.append('Hospital Number')\n",
        "cols_to_drop.append('class')\n",
        "horse_df = horse_df.drop(cols_to_drop,axis = 1)"
      ],
      "metadata": {
        "id": "DuNgnY-66TrD"
      },
      "execution_count": 87,
      "outputs": []
    },
    {
      "cell_type": "code",
      "source": [
        "horse_surgery = horse_df['surgery'] # remove binary cols\n",
        "horse_df = horse_df.drop('surgery',axis = 1)\n",
        "\n",
        "horse_age = horse_df['Age']\n",
        "horse_df = horse_df.drop('Age',axis = 1)"
      ],
      "metadata": {
        "id": "9-b_U62-6ZS3"
      },
      "execution_count": 88,
      "outputs": []
    },
    {
      "cell_type": "code",
      "source": [
        "target = horse_df['surgical lesion?'] # remove target\n",
        "horse_df = horse_df.drop('surgical lesion?',axis = 1)"
      ],
      "metadata": {
        "id": "8U13sQcJ6bO5"
      },
      "execution_count": 89,
      "outputs": []
    },
    {
      "cell_type": "code",
      "source": [
        "cat_cols = [col for col in horse_df.columns if(col_values[col][0] == 'categorical') ]\n",
        "#cat_cols"
      ],
      "metadata": {
        "id": "Ze4v7Jdg9LsT"
      },
      "execution_count": 90,
      "outputs": []
    },
    {
      "cell_type": "code",
      "source": [
        "num_cols = [col for col in horse_df.columns if(col_values[col][0] == 'numerical') ]\n",
        "#num_cols"
      ],
      "metadata": {
        "id": "KQsep5XL9MJI"
      },
      "execution_count": 91,
      "outputs": []
    },
    {
      "cell_type": "code",
      "source": [
        "for col in cat_cols: # one-hot encoding\n",
        "    one_hot = pd.get_dummies(horse_df[col])\n",
        "    horse_df = horse_df.drop(col ,axis = 1)\n",
        "    horse_df = horse_df.join(one_hot)\n",
        "    \n",
        "    col_names = list(one_hot.columns)\n",
        "    name_map = { i : str(col)+ '_' + str(i) for i in col_names }\n",
        "    horse_df.rename(columns = name_map, inplace=True)"
      ],
      "metadata": {
        "id": "4n3eWC_G9NjO"
      },
      "execution_count": 92,
      "outputs": []
    },
    {
      "cell_type": "code",
      "source": [
        "horse_df = horse_df.join(horse_surgery)# join binary and target cols\n",
        "horse_df = horse_df.join(horse_age)\n",
        "horse_df = horse_df.join(target)"
      ],
      "metadata": {
        "id": "YEAWUQqr7FNJ"
      },
      "execution_count": 93,
      "outputs": []
    },
    {
      "cell_type": "code",
      "source": [
        "horse_df"
      ],
      "metadata": {
        "colab": {
          "base_uri": "https://localhost:8080/",
          "height": 540
        },
        "id": "NkU0qCfi946F",
        "outputId": "9241146f-b07a-480e-8056-ea5af000b61a"
      },
      "execution_count": 94,
      "outputs": [
        {
          "output_type": "execute_result",
          "data": {
            "text/plain": [
              "    rectal temperature pulse respiratory rate packed cell volume  \\\n",
              "0                38.50    66               28              45.00   \n",
              "1                 39.2    88               20                 50   \n",
              "2                38.30    40               24              33.00   \n",
              "3                39.10   164               84              48.00   \n",
              "4                37.30   104               35              74.00   \n",
              "..                 ...   ...              ...                ...   \n",
              "295               38.2   120               70                 55   \n",
              "296              37.20    72               24              44.00   \n",
              "297              37.50    72               30              60.00   \n",
              "298              36.50   100               24              50.00   \n",
              "299               37.2    40               20                 36   \n",
              "\n",
              "    total protein  temperature of extremities_1  temperature of extremities_2  \\\n",
              "0            8.40                             0                             0   \n",
              "1              85                             0                             0   \n",
              "2            6.70                             1                             0   \n",
              "3            7.20                             0                             0   \n",
              "4            7.40                             0                             0   \n",
              "..            ...                           ...                           ...   \n",
              "295            65                             0                             0   \n",
              "296           7.5                             0                             0   \n",
              "297          6.80                             0                             0   \n",
              "298          6.00                             0                             0   \n",
              "299            62                             0                             0   \n",
              "\n",
              "     temperature of extremities_3  temperature of extremities_4  \\\n",
              "0                               1                             0   \n",
              "1                               1                             0   \n",
              "2                               0                             0   \n",
              "3                               0                             1   \n",
              "4                               1                             0   \n",
              "..                            ...                           ...   \n",
              "295                             0                             1   \n",
              "296                             1                             0   \n",
              "297                             0                             1   \n",
              "298                             1                             0   \n",
              "299                             1                             0   \n",
              "\n",
              "     peripheral pulse_1  ...  type of lesion 2_1400  type of lesion 2_3111  \\\n",
              "0                     0  ...                      0                      0   \n",
              "1                     1  ...                      0                      0   \n",
              "2                     1  ...                      0                      0   \n",
              "3                     1  ...                      0                      0   \n",
              "4                     1  ...                      0                      0   \n",
              "..                  ...  ...                    ...                    ...   \n",
              "295                   1  ...                      0                      0   \n",
              "296                   0  ...                      0                      0   \n",
              "297                   0  ...                      0                      0   \n",
              "298                   0  ...                      0                      0   \n",
              "299                   1  ...                      0                      0   \n",
              "\n",
              "     type of lesion 2_3112  type of lesion 2_6112  type of lesion 2_7111  \\\n",
              "0                        0                      0                      0   \n",
              "1                        0                      0                      0   \n",
              "2                        0                      0                      0   \n",
              "3                        0                      0                      0   \n",
              "4                        0                      0                      0   \n",
              "..                     ...                    ...                    ...   \n",
              "295                      0                      0                      0   \n",
              "296                      0                      0                      0   \n",
              "297                      0                      0                      0   \n",
              "298                      0                      0                      0   \n",
              "299                      0                      0                      0   \n",
              "\n",
              "     type of lesion 3_0  type of lesion 3_2209  surgery  Age  surgical lesion?  \n",
              "0                     1                      0        2    1                 2  \n",
              "1                     1                      0        1    1                 2  \n",
              "2                     1                      0        2    1                 2  \n",
              "3                     1                      0        1    9                 1  \n",
              "4                     1                      0        2    1                 2  \n",
              "..                  ...                    ...      ...  ...               ...  \n",
              "295                   1                      0        1    1                 2  \n",
              "296                   1                      0        2    1                 1  \n",
              "297                   1                      0        1    1                 1  \n",
              "298                   1                      0        1    1                 1  \n",
              "299                   1                      0        1    1                 2  \n",
              "\n",
              "[300 rows x 125 columns]"
            ],
            "text/html": [
              "\n",
              "  <div id=\"df-14abd085-5784-4ac2-9756-9d1a71a8a48c\">\n",
              "    <div class=\"colab-df-container\">\n",
              "      <div>\n",
              "<style scoped>\n",
              "    .dataframe tbody tr th:only-of-type {\n",
              "        vertical-align: middle;\n",
              "    }\n",
              "\n",
              "    .dataframe tbody tr th {\n",
              "        vertical-align: top;\n",
              "    }\n",
              "\n",
              "    .dataframe thead th {\n",
              "        text-align: right;\n",
              "    }\n",
              "</style>\n",
              "<table border=\"1\" class=\"dataframe\">\n",
              "  <thead>\n",
              "    <tr style=\"text-align: right;\">\n",
              "      <th></th>\n",
              "      <th>rectal temperature</th>\n",
              "      <th>pulse</th>\n",
              "      <th>respiratory rate</th>\n",
              "      <th>packed cell volume</th>\n",
              "      <th>total protein</th>\n",
              "      <th>temperature of extremities_1</th>\n",
              "      <th>temperature of extremities_2</th>\n",
              "      <th>temperature of extremities_3</th>\n",
              "      <th>temperature of extremities_4</th>\n",
              "      <th>peripheral pulse_1</th>\n",
              "      <th>...</th>\n",
              "      <th>type of lesion 2_1400</th>\n",
              "      <th>type of lesion 2_3111</th>\n",
              "      <th>type of lesion 2_3112</th>\n",
              "      <th>type of lesion 2_6112</th>\n",
              "      <th>type of lesion 2_7111</th>\n",
              "      <th>type of lesion 3_0</th>\n",
              "      <th>type of lesion 3_2209</th>\n",
              "      <th>surgery</th>\n",
              "      <th>Age</th>\n",
              "      <th>surgical lesion?</th>\n",
              "    </tr>\n",
              "  </thead>\n",
              "  <tbody>\n",
              "    <tr>\n",
              "      <th>0</th>\n",
              "      <td>38.50</td>\n",
              "      <td>66</td>\n",
              "      <td>28</td>\n",
              "      <td>45.00</td>\n",
              "      <td>8.40</td>\n",
              "      <td>0</td>\n",
              "      <td>0</td>\n",
              "      <td>1</td>\n",
              "      <td>0</td>\n",
              "      <td>0</td>\n",
              "      <td>...</td>\n",
              "      <td>0</td>\n",
              "      <td>0</td>\n",
              "      <td>0</td>\n",
              "      <td>0</td>\n",
              "      <td>0</td>\n",
              "      <td>1</td>\n",
              "      <td>0</td>\n",
              "      <td>2</td>\n",
              "      <td>1</td>\n",
              "      <td>2</td>\n",
              "    </tr>\n",
              "    <tr>\n",
              "      <th>1</th>\n",
              "      <td>39.2</td>\n",
              "      <td>88</td>\n",
              "      <td>20</td>\n",
              "      <td>50</td>\n",
              "      <td>85</td>\n",
              "      <td>0</td>\n",
              "      <td>0</td>\n",
              "      <td>1</td>\n",
              "      <td>0</td>\n",
              "      <td>1</td>\n",
              "      <td>...</td>\n",
              "      <td>0</td>\n",
              "      <td>0</td>\n",
              "      <td>0</td>\n",
              "      <td>0</td>\n",
              "      <td>0</td>\n",
              "      <td>1</td>\n",
              "      <td>0</td>\n",
              "      <td>1</td>\n",
              "      <td>1</td>\n",
              "      <td>2</td>\n",
              "    </tr>\n",
              "    <tr>\n",
              "      <th>2</th>\n",
              "      <td>38.30</td>\n",
              "      <td>40</td>\n",
              "      <td>24</td>\n",
              "      <td>33.00</td>\n",
              "      <td>6.70</td>\n",
              "      <td>1</td>\n",
              "      <td>0</td>\n",
              "      <td>0</td>\n",
              "      <td>0</td>\n",
              "      <td>1</td>\n",
              "      <td>...</td>\n",
              "      <td>0</td>\n",
              "      <td>0</td>\n",
              "      <td>0</td>\n",
              "      <td>0</td>\n",
              "      <td>0</td>\n",
              "      <td>1</td>\n",
              "      <td>0</td>\n",
              "      <td>2</td>\n",
              "      <td>1</td>\n",
              "      <td>2</td>\n",
              "    </tr>\n",
              "    <tr>\n",
              "      <th>3</th>\n",
              "      <td>39.10</td>\n",
              "      <td>164</td>\n",
              "      <td>84</td>\n",
              "      <td>48.00</td>\n",
              "      <td>7.20</td>\n",
              "      <td>0</td>\n",
              "      <td>0</td>\n",
              "      <td>0</td>\n",
              "      <td>1</td>\n",
              "      <td>1</td>\n",
              "      <td>...</td>\n",
              "      <td>0</td>\n",
              "      <td>0</td>\n",
              "      <td>0</td>\n",
              "      <td>0</td>\n",
              "      <td>0</td>\n",
              "      <td>1</td>\n",
              "      <td>0</td>\n",
              "      <td>1</td>\n",
              "      <td>9</td>\n",
              "      <td>1</td>\n",
              "    </tr>\n",
              "    <tr>\n",
              "      <th>4</th>\n",
              "      <td>37.30</td>\n",
              "      <td>104</td>\n",
              "      <td>35</td>\n",
              "      <td>74.00</td>\n",
              "      <td>7.40</td>\n",
              "      <td>0</td>\n",
              "      <td>0</td>\n",
              "      <td>1</td>\n",
              "      <td>0</td>\n",
              "      <td>1</td>\n",
              "      <td>...</td>\n",
              "      <td>0</td>\n",
              "      <td>0</td>\n",
              "      <td>0</td>\n",
              "      <td>0</td>\n",
              "      <td>0</td>\n",
              "      <td>1</td>\n",
              "      <td>0</td>\n",
              "      <td>2</td>\n",
              "      <td>1</td>\n",
              "      <td>2</td>\n",
              "    </tr>\n",
              "    <tr>\n",
              "      <th>...</th>\n",
              "      <td>...</td>\n",
              "      <td>...</td>\n",
              "      <td>...</td>\n",
              "      <td>...</td>\n",
              "      <td>...</td>\n",
              "      <td>...</td>\n",
              "      <td>...</td>\n",
              "      <td>...</td>\n",
              "      <td>...</td>\n",
              "      <td>...</td>\n",
              "      <td>...</td>\n",
              "      <td>...</td>\n",
              "      <td>...</td>\n",
              "      <td>...</td>\n",
              "      <td>...</td>\n",
              "      <td>...</td>\n",
              "      <td>...</td>\n",
              "      <td>...</td>\n",
              "      <td>...</td>\n",
              "      <td>...</td>\n",
              "      <td>...</td>\n",
              "    </tr>\n",
              "    <tr>\n",
              "      <th>295</th>\n",
              "      <td>38.2</td>\n",
              "      <td>120</td>\n",
              "      <td>70</td>\n",
              "      <td>55</td>\n",
              "      <td>65</td>\n",
              "      <td>0</td>\n",
              "      <td>0</td>\n",
              "      <td>0</td>\n",
              "      <td>1</td>\n",
              "      <td>1</td>\n",
              "      <td>...</td>\n",
              "      <td>0</td>\n",
              "      <td>0</td>\n",
              "      <td>0</td>\n",
              "      <td>0</td>\n",
              "      <td>0</td>\n",
              "      <td>1</td>\n",
              "      <td>0</td>\n",
              "      <td>1</td>\n",
              "      <td>1</td>\n",
              "      <td>2</td>\n",
              "    </tr>\n",
              "    <tr>\n",
              "      <th>296</th>\n",
              "      <td>37.20</td>\n",
              "      <td>72</td>\n",
              "      <td>24</td>\n",
              "      <td>44.00</td>\n",
              "      <td>7.5</td>\n",
              "      <td>0</td>\n",
              "      <td>0</td>\n",
              "      <td>1</td>\n",
              "      <td>0</td>\n",
              "      <td>0</td>\n",
              "      <td>...</td>\n",
              "      <td>0</td>\n",
              "      <td>0</td>\n",
              "      <td>0</td>\n",
              "      <td>0</td>\n",
              "      <td>0</td>\n",
              "      <td>1</td>\n",
              "      <td>0</td>\n",
              "      <td>2</td>\n",
              "      <td>1</td>\n",
              "      <td>1</td>\n",
              "    </tr>\n",
              "    <tr>\n",
              "      <th>297</th>\n",
              "      <td>37.50</td>\n",
              "      <td>72</td>\n",
              "      <td>30</td>\n",
              "      <td>60.00</td>\n",
              "      <td>6.80</td>\n",
              "      <td>0</td>\n",
              "      <td>0</td>\n",
              "      <td>0</td>\n",
              "      <td>1</td>\n",
              "      <td>0</td>\n",
              "      <td>...</td>\n",
              "      <td>0</td>\n",
              "      <td>0</td>\n",
              "      <td>0</td>\n",
              "      <td>0</td>\n",
              "      <td>0</td>\n",
              "      <td>1</td>\n",
              "      <td>0</td>\n",
              "      <td>1</td>\n",
              "      <td>1</td>\n",
              "      <td>1</td>\n",
              "    </tr>\n",
              "    <tr>\n",
              "      <th>298</th>\n",
              "      <td>36.50</td>\n",
              "      <td>100</td>\n",
              "      <td>24</td>\n",
              "      <td>50.00</td>\n",
              "      <td>6.00</td>\n",
              "      <td>0</td>\n",
              "      <td>0</td>\n",
              "      <td>1</td>\n",
              "      <td>0</td>\n",
              "      <td>0</td>\n",
              "      <td>...</td>\n",
              "      <td>0</td>\n",
              "      <td>0</td>\n",
              "      <td>0</td>\n",
              "      <td>0</td>\n",
              "      <td>0</td>\n",
              "      <td>1</td>\n",
              "      <td>0</td>\n",
              "      <td>1</td>\n",
              "      <td>1</td>\n",
              "      <td>1</td>\n",
              "    </tr>\n",
              "    <tr>\n",
              "      <th>299</th>\n",
              "      <td>37.2</td>\n",
              "      <td>40</td>\n",
              "      <td>20</td>\n",
              "      <td>36</td>\n",
              "      <td>62</td>\n",
              "      <td>0</td>\n",
              "      <td>0</td>\n",
              "      <td>1</td>\n",
              "      <td>0</td>\n",
              "      <td>1</td>\n",
              "      <td>...</td>\n",
              "      <td>0</td>\n",
              "      <td>0</td>\n",
              "      <td>0</td>\n",
              "      <td>0</td>\n",
              "      <td>0</td>\n",
              "      <td>1</td>\n",
              "      <td>0</td>\n",
              "      <td>1</td>\n",
              "      <td>1</td>\n",
              "      <td>2</td>\n",
              "    </tr>\n",
              "  </tbody>\n",
              "</table>\n",
              "<p>300 rows × 125 columns</p>\n",
              "</div>\n",
              "      <button class=\"colab-df-convert\" onclick=\"convertToInteractive('df-14abd085-5784-4ac2-9756-9d1a71a8a48c')\"\n",
              "              title=\"Convert this dataframe to an interactive table.\"\n",
              "              style=\"display:none;\">\n",
              "        \n",
              "  <svg xmlns=\"http://www.w3.org/2000/svg\" height=\"24px\"viewBox=\"0 0 24 24\"\n",
              "       width=\"24px\">\n",
              "    <path d=\"M0 0h24v24H0V0z\" fill=\"none\"/>\n",
              "    <path d=\"M18.56 5.44l.94 2.06.94-2.06 2.06-.94-2.06-.94-.94-2.06-.94 2.06-2.06.94zm-11 1L8.5 8.5l.94-2.06 2.06-.94-2.06-.94L8.5 2.5l-.94 2.06-2.06.94zm10 10l.94 2.06.94-2.06 2.06-.94-2.06-.94-.94-2.06-.94 2.06-2.06.94z\"/><path d=\"M17.41 7.96l-1.37-1.37c-.4-.4-.92-.59-1.43-.59-.52 0-1.04.2-1.43.59L10.3 9.45l-7.72 7.72c-.78.78-.78 2.05 0 2.83L4 21.41c.39.39.9.59 1.41.59.51 0 1.02-.2 1.41-.59l7.78-7.78 2.81-2.81c.8-.78.8-2.07 0-2.86zM5.41 20L4 18.59l7.72-7.72 1.47 1.35L5.41 20z\"/>\n",
              "  </svg>\n",
              "      </button>\n",
              "      \n",
              "  <style>\n",
              "    .colab-df-container {\n",
              "      display:flex;\n",
              "      flex-wrap:wrap;\n",
              "      gap: 12px;\n",
              "    }\n",
              "\n",
              "    .colab-df-convert {\n",
              "      background-color: #E8F0FE;\n",
              "      border: none;\n",
              "      border-radius: 50%;\n",
              "      cursor: pointer;\n",
              "      display: none;\n",
              "      fill: #1967D2;\n",
              "      height: 32px;\n",
              "      padding: 0 0 0 0;\n",
              "      width: 32px;\n",
              "    }\n",
              "\n",
              "    .colab-df-convert:hover {\n",
              "      background-color: #E2EBFA;\n",
              "      box-shadow: 0px 1px 2px rgba(60, 64, 67, 0.3), 0px 1px 3px 1px rgba(60, 64, 67, 0.15);\n",
              "      fill: #174EA6;\n",
              "    }\n",
              "\n",
              "    [theme=dark] .colab-df-convert {\n",
              "      background-color: #3B4455;\n",
              "      fill: #D2E3FC;\n",
              "    }\n",
              "\n",
              "    [theme=dark] .colab-df-convert:hover {\n",
              "      background-color: #434B5C;\n",
              "      box-shadow: 0px 1px 3px 1px rgba(0, 0, 0, 0.15);\n",
              "      filter: drop-shadow(0px 1px 2px rgba(0, 0, 0, 0.3));\n",
              "      fill: #FFFFFF;\n",
              "    }\n",
              "  </style>\n",
              "\n",
              "      <script>\n",
              "        const buttonEl =\n",
              "          document.querySelector('#df-14abd085-5784-4ac2-9756-9d1a71a8a48c button.colab-df-convert');\n",
              "        buttonEl.style.display =\n",
              "          google.colab.kernel.accessAllowed ? 'block' : 'none';\n",
              "\n",
              "        async function convertToInteractive(key) {\n",
              "          const element = document.querySelector('#df-14abd085-5784-4ac2-9756-9d1a71a8a48c');\n",
              "          const dataTable =\n",
              "            await google.colab.kernel.invokeFunction('convertToInteractive',\n",
              "                                                     [key], {});\n",
              "          if (!dataTable) return;\n",
              "\n",
              "          const docLinkHtml = 'Like what you see? Visit the ' +\n",
              "            '<a target=\"_blank\" href=https://colab.research.google.com/notebooks/data_table.ipynb>data table notebook</a>'\n",
              "            + ' to learn more about interactive tables.';\n",
              "          element.innerHTML = '';\n",
              "          dataTable['output_type'] = 'display_data';\n",
              "          await google.colab.output.renderOutput(dataTable, element);\n",
              "          const docLink = document.createElement('div');\n",
              "          docLink.innerHTML = docLinkHtml;\n",
              "          element.appendChild(docLink);\n",
              "        }\n",
              "      </script>\n",
              "    </div>\n",
              "  </div>\n",
              "  "
            ]
          },
          "metadata": {},
          "execution_count": 94
        }
      ]
    },
    {
      "cell_type": "markdown",
      "source": [
        "# processing for horse (not used)"
      ],
      "metadata": {
        "id": "oW-XBANy7YTP"
      }
    },
    {
      "cell_type": "markdown",
      "source": [],
      "metadata": {
        "id": "MCWZE-mz-_T8"
      }
    },
    {
      "cell_type": "code",
      "source": [
        "horse_classifier = rfg_classifier(horse_df, ['numerical','numerical','numerical','numerical','numerical','numerical','numerical','numerical','numerical','numerical','numerical','numerical','numerical','numerical','numerical','numerical','numerical','numerical','numerical','numerical','numerical','numerical','numerical','numerical','numerical','numerical','numerical','numerical','numerical','numerical','numerical','numerical','numerical','numerical','numerical','numerical','numerical',\n",
        "                                             'numerical','numerical','numerical','numerical','numerical','numerical','numerical','numerical','numerical','numerical','numerical','numerical','numerical','numerical','numerical','numerical','numerical','numerical','numerical','numerical','numerical','numerical','numerical','numerical','numerical','numerical','numerical','numerical','numerical','numerical','numerical','numerical','numerical','numerical','numerical','numerical','numerical',\n",
        "                                             'numerical','numerical','numerical','numerical','numerical','numerical','numerical','numerical','numerical','numerical','numerical','numerical','numerical','numerical','numerical','numerical','numerical','numerical','numerical','numerical','numerical','numerical','numerical','numerical','numerical','numerical','numerical','numerical','numerical','numerical','numerical','numerical','numerical','numerical','numerical','numerical','numerical',\n",
        "                                             'numerical','numerical','numerical','numerical','numerical','numerical','numerical','numerical','numerical','numerical','numerical','numerical','numerical'])\n",
        "horse_classifier.train_model()\n",
        "horse_classifier.predict()\n",
        "print()"
      ],
      "metadata": {
        "colab": {
          "base_uri": "https://localhost:8080/"
        },
        "id": "xF17QSDV-D94",
        "outputId": "72f9614e-7ff1-44be-bbab-8311b97c07e8"
      },
      "execution_count": 101,
      "outputs": [
        {
          "output_type": "stream",
          "name": "stderr",
          "text": [
            "/usr/local/lib/python3.7/dist-packages/ipykernel_launcher.py:29: PerformanceWarning: DataFrame is highly fragmented.  This is usually the result of calling `frame.insert` many times, which has poor performance.  Consider joining all columns at once using pd.concat(axis=1) instead.  To get a de-fragmented frame, use `newframe = frame.copy()`\n"
          ]
        },
        {
          "output_type": "stream",
          "name": "stdout",
          "text": [
            "0.8333333333333334\n",
            "              precision    recall  f1-score   support\n",
            "\n",
            "           0       0.80      0.97      0.88        38\n",
            "           1       0.93      0.59      0.72        22\n",
            "\n",
            "   micro avg       0.83      0.83      0.83        60\n",
            "   macro avg       0.87      0.78      0.80        60\n",
            "weighted avg       0.85      0.83      0.82        60\n",
            " samples avg       0.83      0.83      0.83        60\n",
            "\n",
            "\n"
          ]
        }
      ]
    },
    {
      "cell_type": "code",
      "source": [
        "horse_cv = rfg_classifier(horse_df, ['numerical','numerical','numerical','numerical','numerical','numerical','numerical','numerical','numerical','numerical','numerical','numerical','numerical','numerical','numerical','numerical','numerical','numerical','numerical','numerical','numerical','numerical','numerical','numerical','numerical','numerical','numerical','numerical','numerical','numerical','numerical','numerical','numerical','numerical','numerical','numerical','numerical',\n",
        "                                             'numerical','numerical','numerical','numerical','numerical','numerical','numerical','numerical','numerical','numerical','numerical','numerical','numerical','numerical','numerical','numerical','numerical','numerical','numerical','numerical','numerical','numerical','numerical','numerical','numerical','numerical','numerical','numerical','numerical','numerical','numerical','numerical','numerical','numerical','numerical','numerical','numerical',\n",
        "                                             'numerical','numerical','numerical','numerical','numerical','numerical','numerical','numerical','numerical','numerical','numerical','numerical','numerical','numerical','numerical','numerical','numerical','numerical','numerical','numerical','numerical','numerical','numerical','numerical','numerical','numerical','numerical','numerical','numerical','numerical','numerical','numerical','numerical','numerical','numerical','numerical','numerical',\n",
        "                                             'numerical','numerical','numerical','numerical','numerical','numerical','numerical','numerical','numerical','numerical','numerical','numerical','numerical'])\n",
        "horse_cv.train_model()\n",
        "horse_cv.predict_cv()\n",
        "print()"
      ],
      "metadata": {
        "colab": {
          "base_uri": "https://localhost:8080/"
        },
        "id": "pDodPZ1L8q_i",
        "outputId": "3f076b27-724c-4d28-888e-3ed26d2944cf"
      },
      "execution_count": 102,
      "outputs": [
        {
          "output_type": "stream",
          "name": "stderr",
          "text": [
            "/usr/local/lib/python3.7/dist-packages/ipykernel_launcher.py:29: PerformanceWarning: DataFrame is highly fragmented.  This is usually the result of calling `frame.insert` many times, which has poor performance.  Consider joining all columns at once using pd.concat(axis=1) instead.  To get a de-fragmented frame, use `newframe = frame.copy()`\n"
          ]
        },
        {
          "output_type": "stream",
          "name": "stdout",
          "text": [
            "[0.73333333 0.9        0.86666667 0.86666667 0.76666667 0.9\n",
            " 0.9        0.86666667 0.86666667 0.83333333]\n",
            "Avg : 0.8500000000000002\n",
            "\n"
          ]
        }
      ]
    },
    {
      "cell_type": "code",
      "source": [],
      "metadata": {
        "id": "dHx_j8paFgUP"
      },
      "execution_count": null,
      "outputs": []
    },
    {
      "cell_type": "markdown",
      "source": [
        "# Glass"
      ],
      "metadata": {
        "id": "QSC_ALF2he3f"
      }
    },
    {
      "cell_type": "code",
      "source": [
        "glass_classifier = rfg_classifier(glass, ['numerical','numerical','numerical','numerical','numerical','numerical','numerical','numerical','numerical'])\n",
        "glass_classifier.train_model()\n",
        "glass_classifier.predict()\n",
        "print()"
      ],
      "metadata": {
        "colab": {
          "base_uri": "https://localhost:8080/"
        },
        "id": "Quu4FrOahf_l",
        "outputId": "e81d53f3-f0d2-4d50-99ca-3d0c04f3c71f"
      },
      "execution_count": 123,
      "outputs": [
        {
          "output_type": "stream",
          "name": "stdout",
          "text": [
            "0.6046511627906976\n",
            "              precision    recall  f1-score   support\n",
            "\n",
            "           0       0.77      0.91      0.83        11\n",
            "           1       1.00      0.57      0.73        14\n",
            "           2       0.00      0.00      0.00         3\n",
            "           3       0.00      0.00      0.00         4\n",
            "           4       0.00      0.00      0.00         3\n",
            "           5       1.00      1.00      1.00         8\n",
            "\n",
            "   micro avg       0.90      0.60      0.72        43\n",
            "   macro avg       0.46      0.41      0.43        43\n",
            "weighted avg       0.71      0.60      0.64        43\n",
            " samples avg       0.60      0.60      0.60        43\n",
            "\n",
            "\n"
          ]
        },
        {
          "output_type": "stream",
          "name": "stderr",
          "text": [
            "/usr/local/lib/python3.7/dist-packages/sklearn/metrics/_classification.py:1318: UndefinedMetricWarning: Precision and F-score are ill-defined and being set to 0.0 in labels with no predicted samples. Use `zero_division` parameter to control this behavior.\n",
            "  _warn_prf(average, modifier, msg_start, len(result))\n",
            "/usr/local/lib/python3.7/dist-packages/sklearn/metrics/_classification.py:1318: UndefinedMetricWarning: Precision and F-score are ill-defined and being set to 0.0 in samples with no predicted labels. Use `zero_division` parameter to control this behavior.\n",
            "  _warn_prf(average, modifier, msg_start, len(result))\n"
          ]
        }
      ]
    },
    {
      "cell_type": "code",
      "source": [
        "glass_cv = rfg_classifier(glass, ['numerical','numerical','numerical','numerical','numerical','numerical','numerical','numerical','numerical'])\n",
        "glass_cv.train_model()\n",
        "glass_cv.predict_cv()\n",
        "print()"
      ],
      "metadata": {
        "colab": {
          "base_uri": "https://localhost:8080/"
        },
        "id": "ROz_fYLuifU4",
        "outputId": "85f366f1-5ea6-4e65-f47e-ec8ccc9b3c7a"
      },
      "execution_count": 126,
      "outputs": [
        {
          "output_type": "stream",
          "name": "stdout",
          "text": [
            "[0.13636364 0.18181818 0.09090909 0.77272727 0.23809524 0.28571429\n",
            " 0.38095238 0.         0.14285714 0.        ]\n",
            "Avg : 0.22294372294372294\n",
            "\n"
          ]
        }
      ]
    },
    {
      "cell_type": "markdown",
      "source": [
        "# Seeds"
      ],
      "metadata": {
        "id": "qSbmMiRihiOj"
      }
    },
    {
      "cell_type": "code",
      "source": [
        "seed_classifier = rfg_classifier(seed, ['numerical','numerical','numerical','numerical','numerical','numerical','numerical'])\n",
        "seed_classifier.train_model()\n",
        "seed_classifier.predict()\n",
        "print()"
      ],
      "metadata": {
        "colab": {
          "base_uri": "https://localhost:8080/"
        },
        "id": "PYDbK04uhjq7",
        "outputId": "2d01f102-56eb-48df-aad3-7797a534394b"
      },
      "execution_count": 118,
      "outputs": [
        {
          "output_type": "stream",
          "name": "stdout",
          "text": [
            "0.8333333333333334\n",
            "              precision    recall  f1-score   support\n",
            "\n",
            "           0       0.64      0.82      0.72        11\n",
            "           1       1.00      1.00      1.00        14\n",
            "           2       0.86      0.71      0.77        17\n",
            "\n",
            "   micro avg       0.83      0.83      0.83        42\n",
            "   macro avg       0.83      0.84      0.83        42\n",
            "weighted avg       0.85      0.83      0.84        42\n",
            " samples avg       0.83      0.83      0.83        42\n",
            "\n",
            "\n"
          ]
        }
      ]
    },
    {
      "cell_type": "code",
      "source": [
        "seed_cv = rfg_classifier(seed, ['numerical','numerical','numerical','numerical','numerical','numerical','numerical'])\n",
        "seed_cv.train_model()\n",
        "seed_cv.predict_cv()\n",
        "print()"
      ],
      "metadata": {
        "colab": {
          "base_uri": "https://localhost:8080/"
        },
        "id": "4Os5bBDqh059",
        "outputId": "c7ec0fc1-23f7-48fa-ca5d-0e0d7ae62ec6"
      },
      "execution_count": 119,
      "outputs": [
        {
          "output_type": "stream",
          "name": "stdout",
          "text": [
            "[0.9047619  0.71428571 0.80952381 0.9047619  1.         0.95238095\n",
            " 0.61904762 1.         1.         0.66666667]\n",
            "Avg : 0.8571428571428571\n",
            "\n"
          ]
        }
      ]
    },
    {
      "cell_type": "code",
      "source": [],
      "metadata": {
        "id": "H6FU4ZS0h5hY"
      },
      "execution_count": null,
      "outputs": []
    }
  ]
}